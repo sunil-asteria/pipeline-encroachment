{
 "cells": [
  {
   "cell_type": "raw",
   "id": "8de22602-66e1-451c-a093-529332b2c972",
   "metadata": {},
   "source": [
    "%env CLEARML_WEB_HOST=https://app.clear.ml\n",
    "%env CLEARML_API_HOST=https://api.clear.ml\n",
    "%env CLEARML_FILES_HOST=https://files.clear.ml\n",
    "%env CLEARML_API_ACCESS_KEY=55FSGMBIBED7KJ94AUE4\n",
    "%env CLEARML_API_SECRET_KEY=tx1InVXTB8JNthhepnEQM9qR25WCiN38SHYEzB3fohP5fHBKVJ"
   ]
  }
 ],
 "metadata": {
  "kernelspec": {
   "display_name": "Python 3 (ipykernel)",
   "language": "python",
   "name": "python3"
  },
  "language_info": {
   "codemirror_mode": {
    "name": "ipython",
    "version": 3
   },
   "file_extension": ".py",
   "mimetype": "text/x-python",
   "name": "python",
   "nbconvert_exporter": "python",
   "pygments_lexer": "ipython3",
   "version": "3.8.10"
  }
 },
 "nbformat": 4,
 "nbformat_minor": 5
}
