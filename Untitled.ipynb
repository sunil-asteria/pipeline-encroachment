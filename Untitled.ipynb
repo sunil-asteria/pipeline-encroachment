{
 "cells": [
  {
   "cell_type": "code",
   "execution_count": 1,
   "id": "8c42b217-608b-41c0-9649-48d73f3d9cd5",
   "metadata": {},
   "outputs": [],
   "source": [
    "import fiftyone as fo"
   ]
  },
  {
   "cell_type": "code",
   "execution_count": 3,
   "id": "3ef9c43a-d891-4bb6-abda-fc5bd1273909",
   "metadata": {},
   "outputs": [
    {
     "name": "stdout",
     "output_type": "stream",
     "text": [
      "['2024.03.14.16.05.25', '2024.03.18.11.10.36', '2024.03.18.11.17.25', '2024.03.18.11.19.17', '2024.03.18.11.20.28', '2024.03.18.11.22.35', '2024.03.19.10.51.29', '2024.03.21.13.43.09', '2024.03.21.13.54.26', '2024.03.21.14.06.17', '2024.03.21.14.35.06', '2024.03.21.14.35.13', '2024.03.21.16.38.08', '2024.03.21.16.39.32', 'ALL Fire and Smoke', 'Fire and Smoke Segmentation.v4i.coco-segmentation', 'copy_pipeline_data', 'fire smoke.v1i.coco', 'fire-8', 'fire-smoke-detection', 'fire-smoke-detection.v6i.coco-segmentation', 'patches_data', 'pipeline_data', 'rtpv-dataset']\n"
     ]
    }
   ],
   "source": [
    "print(fo.list_datasets())"
   ]
  },
  {
   "cell_type": "code",
   "execution_count": 6,
   "id": "af8563e9-0a03-4943-ad6c-71a96caac32f",
   "metadata": {},
   "outputs": [],
   "source": [
    "\n",
    "for dataset in fo.list_datasets():\n",
    "    data = fo.load_dataset(dataset)\n",
    "    data.persistent = True\n",
    "    data.save()"
   ]
  },
  {
   "cell_type": "code",
   "execution_count": 7,
   "id": "c5ae8cb8-d783-4479-95bc-357e222cf013",
   "metadata": {},
   "outputs": [
    {
     "name": "stdout",
     "output_type": "stream",
     "text": [
      "True\n",
      "True\n",
      "True\n",
      "True\n",
      "True\n",
      "True\n",
      "True\n",
      "True\n",
      "True\n",
      "True\n",
      "True\n",
      "True\n",
      "True\n",
      "True\n",
      "True\n",
      "True\n",
      "True\n",
      "True\n",
      "True\n",
      "True\n",
      "True\n",
      "True\n",
      "True\n",
      "True\n"
     ]
    }
   ],
   "source": [
    "for dataset in fo.list_datasets():\n",
    "    data = fo.load_dataset(dataset)\n",
    "    print(data.persistent)\n",
    "    "
   ]
  },
  {
   "cell_type": "code",
   "execution_count": null,
   "id": "645c497e-74b0-4f2a-80be-60dfa45f6b12",
   "metadata": {},
   "outputs": [],
   "source": []
  }
 ],
 "metadata": {
  "kernelspec": {
   "display_name": "Python 3 (ipykernel)",
   "language": "python",
   "name": "python3"
  },
  "language_info": {
   "codemirror_mode": {
    "name": "ipython",
    "version": 3
   },
   "file_extension": ".py",
   "mimetype": "text/x-python",
   "name": "python",
   "nbconvert_exporter": "python",
   "pygments_lexer": "ipython3",
   "version": "3.8.10"
  }
 },
 "nbformat": 4,
 "nbformat_minor": 5
}
