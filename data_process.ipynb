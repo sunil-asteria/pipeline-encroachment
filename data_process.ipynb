{
 "cells": [
  {
   "cell_type": "code",
   "execution_count": 22,
   "id": "40f2e532-739d-4ec1-8d3b-3044c694bead",
   "metadata": {},
   "outputs": [],
   "source": [
    "import json \n",
    "import os \n",
    "\n",
    "with open('./dataset.json') as f:\n",
    "    data = json.load(f)\n",
    "\n",
    "for root,folders,files in os.walk('data'):\n",
    "    for folder in folders:\n",
    "        \n",
    "        idx = folder.find('images')\n",
    "        if idx > -1:\n",
    "            changed_path = os.path.join(root,folder)\n",
    "            for folder in data['folders']:\n",
    "                idx1 = folder['original_path'].find(root)\n",
    "                if not idx1 == -1:\n",
    "                    folder['changed_path'] = changed_path\n",
    "                    base_path =  os.path.basename(folder['original_path'])\n",
    "                    base_path = base_path.replace('_images',' _ images')\n",
    "                    base_path = base_path.replace(' _ images','')\n",
    "                    folder['date']=base_path\n",
    "with open(\"resulting_data.json\", \"w\") as outfile:\n",
    "    json.dump(data, outfile)"
   ]
  }
 ],
 "metadata": {
  "kernelspec": {
   "display_name": "Python 3 (ipykernel)",
   "language": "python",
   "name": "python3"
  },
  "language_info": {
   "codemirror_mode": {
    "name": "ipython",
    "version": 3
   },
   "file_extension": ".py",
   "mimetype": "text/x-python",
   "name": "python",
   "nbconvert_exporter": "python",
   "pygments_lexer": "ipython3",
   "version": "3.8.10"
  }
 },
 "nbformat": 4,
 "nbformat_minor": 5
}
