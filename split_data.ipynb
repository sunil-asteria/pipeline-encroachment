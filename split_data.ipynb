{
 "cells": [
  {
   "cell_type": "code",
   "execution_count": 17,
   "id": "6fa45f96-c09f-4620-911b-a4a6b9ffd164",
   "metadata": {},
   "outputs": [],
   "source": [
    "import os\n",
    "import random\n",
    "import shutil\n",
    "\n",
    "def split_data(image_folder, label_folder, output_folder, train_ratio=0.7, test_ratio=0.15, val_ratio=0.15):\n",
    "    assert train_ratio + test_ratio + val_ratio == 1.0, \"Ratios should add up to 1.0\"\n",
    "    \n",
    "    # Create output folders\n",
    "    train_folder = os.path.join(output_folder, 'train')\n",
    "    test_folder = os.path.join(output_folder, 'test')\n",
    "    val_folder = os.path.join(output_folder, 'val')\n",
    "    \n",
    "    for folder in [train_folder, test_folder, val_folder]:\n",
    "        os.makedirs(os.path.join(folder, 'images'), exist_ok=True)\n",
    "        os.makedirs(os.path.join(folder, 'labels'), exist_ok=True)\n",
    "\n",
    "    # Get a list of image files\n",
    "    image_files = [f for f in os.listdir(image_folder) if f.endswith('.jpg')]\n",
    "    \n",
    "    # Randomly shuffle the files\n",
    "    random.shuffle(image_files)\n",
    "\n",
    "    # Calculate the number of files for each split\n",
    "    num_files = len(image_files)\n",
    "    num_train = int(train_ratio * num_files)\n",
    "    num_test = int(test_ratio * num_files)\n",
    "    num_val = num_files - num_train - num_test\n",
    "    # Copy files to the corresponding folders\n",
    "    for i, image_file in enumerate(image_files):\n",
    "        label_file = image_file.replace('.jpg', '.txt')\n",
    "        \n",
    "        if i < num_train:\n",
    "            shutil.copy(os.path.join(image_folder, image_file), os.path.join(train_folder, 'images', image_file))\n",
    "            shutil.copy(os.path.join(label_folder, label_file), os.path.join(train_folder, 'labels', label_file))\n",
    "        elif i < num_train + num_test:\n",
    "            shutil.copy(os.path.join(image_folder, image_file), os.path.join(test_folder, 'images', image_file))\n",
    "            shutil.copy(os.path.join(label_folder, label_file), os.path.join(test_folder, 'labels', label_file))\n",
    "        else:\n",
    "            shutil.copy(os.path.join(image_folder, image_file), os.path.join(val_folder, 'images', image_file))\n",
    "            shutil.copy(os.path.join(label_folder, label_file), os.path.join(val_folder, 'labels', label_file))\n",
    "\n",
    "# Specify your input and output folders\n",
    "image_folder = 'patches_data_pipeline/images/val'\n",
    "label_folder = 'patches_data_pipeline/labels/val'\n",
    "output_folder = './dataset/'  # Change this to your desired output path\n",
    "\n",
    "# Call the function to split the data\n",
    "\n",
    "split_data(image_folder, label_folder, output_folder)\n"
   ]
  },
  {
   "cell_type": "code",
   "execution_count": null,
   "id": "9d98842b-002d-4126-ac40-2552c9234fdf",
   "metadata": {},
   "outputs": [],
   "source": []
  },
  {
   "cell_type": "code",
   "execution_count": null,
   "id": "2087dc03-66d9-4243-ad9c-aaa704cd882d",
   "metadata": {},
   "outputs": [],
   "source": []
  },
  {
   "cell_type": "code",
   "execution_count": null,
   "id": "bee124c5-4e07-4f73-ace6-cc4e7b819beb",
   "metadata": {},
   "outputs": [],
   "source": []
  }
 ],
 "metadata": {
  "kernelspec": {
   "display_name": "Python 3 (ipykernel)",
   "language": "python",
   "name": "python3"
  },
  "language_info": {
   "codemirror_mode": {
    "name": "ipython",
    "version": 3
   },
   "file_extension": ".py",
   "mimetype": "text/x-python",
   "name": "python",
   "nbconvert_exporter": "python",
   "pygments_lexer": "ipython3",
   "version": "3.8.10"
  }
 },
 "nbformat": 4,
 "nbformat_minor": 5
}
