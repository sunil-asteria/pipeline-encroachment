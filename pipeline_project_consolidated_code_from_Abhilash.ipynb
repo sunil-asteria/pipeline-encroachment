{
 "cells": [
  {
   "cell_type": "markdown",
   "id": "1b78b420-fa67-454b-b79a-e0eba059fa71",
   "metadata": {},
   "source": [
    "## YOLO model training"
   ]
  },
  {
   "cell_type": "code",
   "execution_count": null,
   "id": "0cdc76bd-9e96-4353-8700-15a8d21e5be5",
   "metadata": {},
   "outputs": [],
   "source": [
    "from ultralytics import YOLO"
   ]
  },
  {
   "cell_type": "code",
   "execution_count": null,
   "id": "e6c4dcb7-4e68-4122-a7e6-6ecc2df033f5",
   "metadata": {},
   "outputs": [],
   "source": [
    "!pip3 install torch torchvision torchaudio"
   ]
  },
  {
   "cell_type": "code",
   "execution_count": null,
   "id": "4b1da504-e867-4307-82e2-365616411b4c",
   "metadata": {},
   "outputs": [],
   "source": [
    "import torch\n",
    "torch.cuda.is_available()"
   ]
  },
  {
   "cell_type": "code",
   "execution_count": null,
   "id": "f5c1148e-4635-477c-b15b-a1c5ac32cdef",
   "metadata": {},
   "outputs": [],
   "source": [
    "torch.__version__"
   ]
  },
  {
   "cell_type": "code",
   "execution_count": null,
   "id": "51b685aa-ed9f-4dd4-ae97-ae19cb5df7b2",
   "metadata": {},
   "outputs": [],
   "source": [
    "import clearml\n",
    "clearml.browser_login()"
   ]
  },
  {
   "cell_type": "code",
   "execution_count": null,
   "id": "855abacd-057c-4abd-82b9-8383462a36d4",
   "metadata": {},
   "outputs": [],
   "source": [
    "#login with clearml credentials\n",
    "\n",
    "%env CLEARML_WEB_HOST=https://app.clear.ml\n",
    "%env CLEARML_API_HOST=https://api.clear.ml\n",
    "%env CLEARML_FILES_HOST=https://files.clear.ml\n",
    "#get these two once you make an account on clearml\n",
    "%env CLEARML_API_ACCESS_KEY=\n",
    "%env CLEARML_API_SECRET_KEY="
   ]
  },
  {
   "cell_type": "code",
   "execution_count": null,
   "id": "3f0e8bb4-3492-467c-8ff6-8bf89fcc6158",
   "metadata": {},
   "outputs": [],
   "source": [
    "model = YOLO(\"Pipeline_models/Best_version_2.pt\")"
   ]
  },
  {
   "cell_type": "code",
   "execution_count": null,
   "id": "ee8e211e-ff62-4565-8336-32f5ab0cbdb3",
   "metadata": {},
   "outputs": [],
   "source": [
    "from clearml import Task\n",
    "task = Task.init(project_name=\"project\", task_name=\"my_task\")\n",
    "results = model.train(data=\"/home/naveen/workspace/voxel/Pipline_workspace/dataset/dataset.yaml\",epochs=100,batch=2,imgsz=1280,augment=True,save=True,save_period=1)"
   ]
  },
  {
   "cell_type": "code",
   "execution_count": null,
   "id": "ade24388-91cf-47ad-a8e5-c26d1ff73a89",
   "metadata": {},
   "outputs": [],
   "source": [
    "import torch\n",
    "torch.cuda.empty_cache()"
   ]
  },
  {
   "cell_type": "code",
   "execution_count": null,
   "id": "f2fcc64a-7957-481f-8050-8d901ed59e4e",
   "metadata": {},
   "outputs": [],
   "source": [
    "torch.cuda.memory_summary(device=None, abbreviated=False)"
   ]
  },
  {
   "cell_type": "code",
   "execution_count": null,
   "id": "748cc44b-2a67-4810-983c-81776a2eb97d",
   "metadata": {},
   "outputs": [],
   "source": [
    "from ultralytics import YOLO\n",
    "\n",
    "model = YOLO(\"Pipeline_models/Best_version_2.pt\")\n",
    "model.tune(data=\"/home/naveen/workspace/voxel/Pipline_workspace/dataset/dataset.yaml\", epochs=10, iterations=300, optimizer='AdamW', plots=False,batch=2, save=False, val=False)"
   ]
  },
  {
   "cell_type": "code",
   "execution_count": null,
   "id": "d0f2cbd6-3661-43d1-8ffa-8c20c586bd93",
   "metadata": {},
   "outputs": [],
   "source": [
    "!yolo task=detect mode=predict model=Pipeline_models/best_version_3.pt conf=0.25 source='/home/naveen/workspace/voxel/Pipline_workspace/dataset/test/images' save=True"
   ]
  },
  {
   "cell_type": "markdown",
   "id": "996e0248-f93c-4103-9643-764d001536a2",
   "metadata": {},
   "source": [
    "## SAHI Integration"
   ]
  },
  {
   "cell_type": "code",
   "execution_count": null,
   "id": "fe77400c-e280-40fe-9f97-13c2189ce013",
   "metadata": {},
   "outputs": [],
   "source": [
    "import cv2\n",
    "import fiftyone as fo\n",
    "from sahi import AutoDetectionModel\n",
    "from sahi.predict import get_prediction, get_sliced_prediction, predict\n",
    "\n",
    "dataset = fo.load_dataset(\"pipeline_data\")"
   ]
  },
  {
   "cell_type": "code",
   "execution_count": null,
   "id": "6059663d-bfde-47d4-8fcf-40f56fef9a03",
   "metadata": {},
   "outputs": [],
   "source": [
    "yolov8_model_path = \"Pipeline_models/Best_version_2.pt\""
   ]
  },
  {
   "cell_type": "code",
   "execution_count": null,
   "id": "afa256ab-2800-4470-b080-4bde2058763f",
   "metadata": {},
   "outputs": [],
   "source": [
    "sahi_model = AutoDetectionModel.from_pretrained(\n",
    "    model_type='yolov8',\n",
    "    model_path=yolov8_model_path,\n",
    "    confidence_threshold=0.3,\n",
    "    device=\"cuda:0\",\n",
    ")"
   ]
  },
  {
   "cell_type": "code",
   "execution_count": null,
   "id": "e2c74c3f-d904-4838-b58b-8557756758ec",
   "metadata": {},
   "outputs": [],
   "source": [
    "\n",
    "for sample in dataset:\n",
    "    \n",
    "    result = get_sliced_prediction(\n",
    "        sample.filepath,\n",
    "        sahi_model,\n",
    "        slice_height = 1280,\n",
    "        slice_width = 1280,\n",
    "        overlap_height_ratio = 0.2,\n",
    "        overlap_width_ratio = 0.2\n",
    "    )\n",
    "\n",
    "    fiftyone_detections = result.to_fiftyone_detections()\n",
    "    \n",
    "    sample[\"sahi_predictions_v2_1280x1280\"] = fo.Detections(detections=fiftyone_detections)\n",
    "    sample.save()\n",
    "  \n",
    "\n"
   ]
  },
  {
   "cell_type": "markdown",
   "id": "0f02a03e-cfbc-4b0c-bd9d-075c6fa56e7b",
   "metadata": {},
   "source": [
    "## Adding data to fiftyone"
   ]
  },
  {
   "cell_type": "code",
   "execution_count": null,
   "id": "08b966f6-acfc-43c3-86f7-9e84c461f64a",
   "metadata": {},
   "outputs": [],
   "source": [
    "import fiftyone as fo\n",
    "dataset_list = fo.list_datasets()\n",
    "print(dataset_list)"
   ]
  },
  {
   "cell_type": "code",
   "execution_count": null,
   "id": "8859a392-10a7-4bff-b2c0-6aa7d771220d",
   "metadata": {},
   "outputs": [],
   "source": [
    "import os\n",
    "import fiftyone as fo\n",
    "\n",
    "list_of_images = []\n",
    "\n",
    "for root, dirs, files in os.walk('data', topdown=True):\n",
    "    for file in files:\n",
    "        if file.endswith('.JPG'):\n",
    "            list_of_images.append(os.path.join(root, file))\n",
    "\n",
    "dataset = fo.Dataset.from_images(list_of_images, name = \"pipeline_data\")\n",
    "dataset.persistent = True\n",
    "dataset.save()"
   ]
  },
  {
   "cell_type": "code",
   "execution_count": null,
   "id": "69207793-d810-4090-a40b-fff81f6419f2",
   "metadata": {},
   "outputs": [],
   "source": [
    "from PIL import Image\n",
    "\n",
    "\n",
    "def get_image_dimensions(image_path):\n",
    "    try:\n",
    "        with Image.open(image_path) as img:\n",
    "            width, height = img.size\n",
    "        return width, height\n",
    "    except Exception as e:\n",
    "        raise ValueError(f\"Unable to read image dimensions for {image_path}: {str(e)}\")\n",
    "\n",
    "with fo.ProgressBar() as pb:\n",
    "    for sample in pb(dataset):\n",
    "        image_path = sample['filepath']\n",
    "        \n",
    "        try:\n",
    "            iw, ih = get_image_dimensions(image_path)\n",
    "        except ValueError as ve:\n",
    "            print(ve)\n",
    "            continue  \n",
    "\n",
    "        detections = []\n",
    "        text_file = sample['filepath'].replace('images', 'kitti_data')\n",
    "        text_file = text_file.replace('.JPG', '.txt')\n",
    "        \n",
    "\n",
    "        with open(text_file, 'r') as fr:\n",
    "            lines = fr.readlines()\n",
    "\n",
    "            for line in lines:\n",
    "                line = line.replace(\"ELECTRIC POLES\",\"ELECTRIC_POLES\")\n",
    "                line = line.replace(\"PERMANENT STRUCTURES\",\"PERMENANT_STRUCTURES\")\n",
    "                line = line.replace(\"PERMENANT STRUCTURES\",\"PERMENANT_STRUCTURES\")\n",
    "                line = line.replace(\"TEMPORARY STRUCTURES\",\"TEMPORARY_STRUCTURES\")\n",
    "                cls,_,_,_,x1,y1,x2,y2,_,_,_,_,_,_,_,score =  line.split(' ')\n",
    "                x1,y1,x2,y2,score = float(x1),float(y1),float(x2),float(y2),float(score) \n",
    "                rel_box = [float(x1 / iw),float( y1 / ih),float( (x2-x1) / iw),float( (y2-y1) / ih)]\n",
    "                detections.append(\n",
    "                    fo.Detection(\n",
    "                        label=cls,\n",
    "                        bounding_box=rel_box,\n",
    "                        confidence=score\n",
    "                    )\n",
    "                )\n",
    "            \n",
    "            \n",
    "            sample[\"ground_truth\"] = fo.Detections(detections=detections)\n",
    "            sample.save()"
   ]
  },
  {
   "cell_type": "code",
   "execution_count": null,
   "id": "000de493-6f15-4864-9d8f-5e9974939078",
   "metadata": {},
   "outputs": [],
   "source": [
    "dataset"
   ]
  },
  {
   "cell_type": "markdown",
   "id": "1a9baba6-a990-426b-9f2e-1c6a5da5a739",
   "metadata": {},
   "source": [
    "### Launching the fiftyone interface"
   ]
  },
  {
   "cell_type": "code",
   "execution_count": null,
   "id": "01334e8e-389d-4a1b-87d0-c62670736ec9",
   "metadata": {},
   "outputs": [],
   "source": [
    "import fiftyone as fo\n",
    "dataset = fo.load_dataset(\"pipeline_data\")"
   ]
  },
  {
   "cell_type": "code",
   "execution_count": null,
   "id": "b192ec31-dccf-4df5-bf8e-b66834af3b70",
   "metadata": {},
   "outputs": [],
   "source": [
    "session = fo.launch_app(dataset)"
   ]
  },
  {
   "cell_type": "markdown",
   "id": "e9d6d8db-69d5-4aa7-8092-511437e3b037",
   "metadata": {},
   "source": [
    "### Adding metadata"
   ]
  },
  {
   "cell_type": "code",
   "execution_count": null,
   "id": "ce435dce-a217-4f45-9ee5-0457b4d1966c",
   "metadata": {},
   "outputs": [],
   "source": [
    "for sample in dataset:\n",
    "    sample.metadata = None\n",
    "    sample.save()"
   ]
  },
  {
   "cell_type": "code",
   "execution_count": null,
   "id": "2daf50c1-acb5-466f-a8f1-580aa1dea258",
   "metadata": {},
   "outputs": [],
   "source": [
    "import cv2\n",
    "# from fiftyone import fo\n",
    "from fiftyone.core.metadata import ImageMetadata\n",
    "import os\n",
    "\n",
    "# Load your existing dataset\n",
    "# dataset = fo.load_dataset(\"/path/to/your/dataset\")\n",
    "\n",
    "# Iterate over each sample in the dataset and update metadata\n",
    "for sample in dataset:\n",
    "    image_path = sample.filepath\n",
    "\n",
    "    # Read image using OpenCV\n",
    "    img = cv2.imread(image_path)\n",
    "    height, width, _ = img.shape\n",
    "\n",
    "    # Update metadata\n",
    "    sample.metadata = ImageMetadata(width=width, height=height)\n",
    "    print(sample.filepath)\n",
    "    sample.save()\n",
    "# Save the updated dataset\n"
   ]
  },
  {
   "cell_type": "markdown",
   "id": "18bc0ba8-afa6-4d78-92a6-579938731728",
   "metadata": {},
   "source": [
    "### Merging detections and performing nms operation"
   ]
  },
  {
   "cell_type": "code",
   "execution_count": null,
   "id": "2a5c275a-ecf9-44ae-83a6-7575e5a6386a",
   "metadata": {},
   "outputs": [],
   "source": [
    "for sample in dataset:\n",
    "    sample[\"merged_detections\"] = sample.sahi_predictions_v2_1280x1280.copy()\n",
    "    sample.merged_detections.merge(\n",
    "        sample.sahi_predictions_v3_640x640,\n",
    "        merge_lists=True, \n",
    "        overwrite=True,    \n",
    "    )\n",
    "\n",
    "    sample.save()"
   ]
  },
  {
   "cell_type": "code",
   "execution_count": null,
   "id": "b7b7a532-003c-4f13-9835-39ca837fbbbc",
   "metadata": {},
   "outputs": [],
   "source": [
    "import fiftyone.utils.labels as fol\n",
    "\n",
    "\n",
    "fol.perform_nms(sample_collection=dataset, in_field=\"merged_detections\", out_field=\"merged_nms\", confidence_thresh=0.15, iou_thresh=0.10,classwise=True, progress=True)"
   ]
  }
 ],
 "metadata": {
  "kernelspec": {
   "display_name": "Python 3 (ipykernel)",
   "language": "python",
   "name": "python3"
  },
  "language_info": {
   "codemirror_mode": {
    "name": "ipython",
    "version": 3
   },
   "file_extension": ".py",
   "mimetype": "text/x-python",
   "name": "python",
   "nbconvert_exporter": "python",
   "pygments_lexer": "ipython3",
   "version": "3.8.10"
  }
 },
 "nbformat": 4,
 "nbformat_minor": 5
}
